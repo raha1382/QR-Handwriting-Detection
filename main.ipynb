{
 "cells": [
  {
   "cell_type": "markdown",
   "metadata": {},
   "source": [
    "imports"
   ]
  },
  {
   "cell_type": "code",
   "execution_count": 1,
   "metadata": {},
   "outputs": [
    {
     "ename": "ModuleNotFoundError",
     "evalue": "No module named 'numpy'",
     "output_type": "error",
     "traceback": [
      "\u001b[31m---------------------------------------------------------------------------\u001b[39m",
      "\u001b[31mModuleNotFoundError\u001b[39m                       Traceback (most recent call last)",
      "\u001b[36mCell\u001b[39m\u001b[36m \u001b[39m\u001b[32mIn[1]\u001b[39m\u001b[32m, line 1\u001b[39m\n\u001b[32m----> \u001b[39m\u001b[32m1\u001b[39m \u001b[38;5;28;01mimport\u001b[39;00m\u001b[38;5;250m \u001b[39m\u001b[34;01mnumpy\u001b[39;00m\u001b[38;5;250m \u001b[39m\u001b[38;5;28;01mas\u001b[39;00m\u001b[38;5;250m \u001b[39m\u001b[34;01mnp\u001b[39;00m\n\u001b[32m      2\u001b[39m \u001b[38;5;28;01mfrom\u001b[39;00m\u001b[38;5;250m \u001b[39m\u001b[34;01memnist\u001b[39;00m\u001b[38;5;250m \u001b[39m\u001b[38;5;28;01mimport\u001b[39;00m extract_training_samples, extract_test_samples\n\u001b[32m      3\u001b[39m \u001b[38;5;28;01mfrom\u001b[39;00m\u001b[38;5;250m \u001b[39m\u001b[34;01mscipy\u001b[39;00m\u001b[34;01m.\u001b[39;00m\u001b[34;01mlinalg\u001b[39;00m\u001b[38;5;250m \u001b[39m\u001b[38;5;28;01mimport\u001b[39;00m solve_triangular\n",
      "\u001b[31mModuleNotFoundError\u001b[39m: No module named 'numpy'"
     ]
    }
   ],
   "source": [
    "import numpy as np\n",
    "from emnist import extract_training_samples, extract_test_samples\n",
    "from scipy.linalg import solve_triangular"
   ]
  },
  {
   "cell_type": "markdown",
   "metadata": {},
   "source": [
    "Load Data"
   ]
  },
  {
   "cell_type": "code",
   "execution_count": null,
   "metadata": {},
   "outputs": [],
   "source": [
    "# load data\n",
    "train_images, train_labels = extract_training_samples('letters')\n",
    "test_images, test_labels = extract_test_samples('letters')\n",
    "\n",
    "# (A=0, B=1, ..., Z=25)\n",
    "train_labels = train_labels - 1\n",
    "test_labels = test_labels - 1\n",
    "\n",
    "# parameters\n",
    "n_classes = 26 #number of classes(A-Z)\n",
    "n_train_per_class = 200\n",
    "n_test_per_class = 20"
   ]
  },
  {
   "cell_type": "markdown",
   "metadata": {},
   "source": [
    "part 1: QR using householder"
   ]
  },
  {
   "cell_type": "code",
   "execution_count": null,
   "metadata": {},
   "outputs": [],
   "source": [
    "def householder_qr(A):\n",
    "    m, n = A.shape\n",
    "    R = A.copy().astype(np.float64)\n",
    "    Q = np.eye(m, dtype=np.float64)\n",
    "    \n",
    "    for k in range(min(m, n)):\n",
    "        x = R[k:, k]\n",
    "        if np.linalg.norm(x)==0:\n",
    "            continue\n",
    "        \n",
    "        # claculate v\n",
    "        e = np.zeros_like(x)\n",
    "        e[0] = np.linalg.norm(x)\n",
    "        v = x - e if x[0] >= 0 else x + e\n",
    "        v = v / np.linalg.norm(v)\n",
    "        \n",
    "        # householder matrix: H = I - 2vv^T\n",
    "        H = np.eye(m, dtype=np.float64)\n",
    "        H[k:, k:] -= 2 * np.outer(v, v)\n",
    "        \n",
    "        R = H @ R\n",
    "        Q = Q @ H  # Q = H1 * H2 * ... * Hk\n",
    "        \n",
    "    return Q, R"
   ]
  },
  {
   "cell_type": "code",
   "execution_count": null,
   "metadata": {},
   "outputs": [],
   "source": [
    "# save QR for each class\n",
    "class_matrices = {}\n",
    "class_Q = {}\n",
    "class_R = {}\n",
    "\n",
    "for cls in range(n_classes):\n",
    "    # 200 train for each class\n",
    "    idx = np.where(train_labels == cls)[0][:n_train_per_class]\n",
    "    A = train_images[idx].reshape(n_train_per_class, 28*28).T.astype(np.float64)\n",
    "    \n",
    "    # QR using householder\n",
    "    Q, R = householder_qr(A)\n",
    "    class_Q[cls] = Q\n",
    "    class_R[cls] = R"
   ]
  },
  {
   "cell_type": "code",
   "execution_count": null,
   "metadata": {},
   "outputs": [
    {
     "name": "stdout",
     "output_type": "stream",
     "text": [
      "accuracy 1: 70.58%\n"
     ]
    }
   ],
   "source": [
    "correct = 0\n",
    "total = 0\n",
    "\n",
    "for cls in range(n_classes):\n",
    "    # 20 test for each class\n",
    "    idx = np.where(test_labels == cls)[0][:n_test_per_class]\n",
    "    test_data = test_images[idx].astype(np.float64)\n",
    "    \n",
    "    for b in test_data:\n",
    "        b = b.reshape(28*28,-1)\n",
    "        min_error = float('inf')\n",
    "        predicted_cls = -1\n",
    "        \n",
    "        # least square error\n",
    "        for c in range(n_classes):\n",
    "            Q = class_Q[c]\n",
    "            R = class_R[c]\n",
    "            m,n = R.shape\n",
    "            R1 = R[:n, :n]\n",
    "            Q_b = Q.T@b\n",
    "            Q_b = Q_b[:n]\n",
    "            \n",
    "            x = solve_triangular(R1, Q_b)\n",
    "            reconstructed = Q @ (R @ x)\n",
    "            error = np.linalg.norm(b - reconstructed)\n",
    "            \n",
    "            if error < min_error:\n",
    "                min_error = error\n",
    "                predicted_cls = c\n",
    "        \n",
    "        if predicted_cls == cls:\n",
    "            correct += 1\n",
    "        total += 1\n",
    "\n",
    "accuracy_section1 = correct / total\n",
    "print(f\"accuracy 1: {accuracy_section1:.2%}\")"
   ]
  },
  {
   "cell_type": "markdown",
   "metadata": {},
   "source": [
    "part 2: QR using givens"
   ]
  },
  {
   "cell_type": "code",
   "execution_count": null,
   "metadata": {},
   "outputs": [],
   "source": [
    "def givens_rotation(a, b):\n",
    "    if b == 0.0:\n",
    "        c = 1.0\n",
    "        s = 0.0\n",
    "    else:\n",
    "        if abs(b) >= abs(a):\n",
    "            t = -a / b\n",
    "            s_denom = np.sqrt(1.0 + t**2)\n",
    "            s = 1.0 / s_denom\n",
    "            c = s * t\n",
    "        else:\n",
    "            t = -b / a\n",
    "            c_denom = np.sqrt(1.0 + t**2)\n",
    "            c = 1.0 / c_denom\n",
    "            s = c * t\n",
    "\n",
    "    return c, s\n",
    "\n",
    "def update_qr(Q, R, new_col):\n",
    "    m, n = R.shape\n",
    "    q = Q @ new_col\n",
    "    R_augmented = np.hstack((R, q.reshape(-1, 1)))\n",
    "    \n",
    "    for i in range(m-1, n, -1):\n",
    "        if R_augmented[i, n] == 0:\n",
    "            continue\n",
    "        c, s = givens_rotation(R_augmented[i-1, n], R_augmented[i, n])\n",
    "        \n",
    "        G = np.array([[c, -s], [s, c]])\n",
    "        \n",
    "        R_augmented[i - 1:i + 1, :] = G @ R_augmented[i - 1:i + 1, :]\n",
    "        Q[:, i - 1:i + 1] = Q[:, i - 1:i + 1] @ G.T\n",
    "        \n",
    "    return Q, R_augmented"
   ]
  },
  {
   "cell_type": "code",
   "execution_count": null,
   "metadata": {},
   "outputs": [],
   "source": [
    "n_new_samples = 20\n",
    "\n",
    "for cls in range(n_classes):\n",
    "    # 20 more train for each class\n",
    "    idx = np.where(train_labels == cls)[0][n_train_per_class:n_train_per_class + n_new_samples]\n",
    "    B = train_images[idx].reshape(n_new_samples, 28*28).astype(np.float64)\n",
    "    \n",
    "    # update\n",
    "    for new_col in B:\n",
    "        Q_new, R_new = update_qr(class_Q[cls], class_R[cls], new_col.reshape(28*28, -1))\n",
    "        # print(Q_new.shape, R_new.shape)\n",
    "        class_Q[cls] = Q_new\n",
    "        class_R[cls] = R_new"
   ]
  },
  {
   "cell_type": "code",
   "execution_count": null,
   "metadata": {},
   "outputs": [
    {
     "name": "stdout",
     "output_type": "stream",
     "text": [
      "accuracy 2: 70.19%\n"
     ]
    }
   ],
   "source": [
    "correct = 0\n",
    "total = 0\n",
    "\n",
    "for cls in range(n_classes):\n",
    "    # 20 test for each class\n",
    "    idx = np.where(test_labels == cls)[0][:n_test_per_class]\n",
    "    test_data = test_images[idx].astype(np.float64)\n",
    "    \n",
    "    for b in test_data:\n",
    "        b = b.reshape(28*28,-1)\n",
    "        min_error = float('inf')\n",
    "        predicted_cls = -1\n",
    "        \n",
    "        # least square error\n",
    "        for c in range(n_classes):\n",
    "            Q = class_Q[c]\n",
    "            R = class_R[c]\n",
    "            m,n = R.shape\n",
    "            R1 = R[:n, :n]\n",
    "            Q_b = Q.T@b\n",
    "            Q_b = Q_b[:n]\n",
    "            \n",
    "            x = solve_triangular(R1, Q_b)\n",
    "            reconstructed = Q @ (R @ x)\n",
    "            error = np.linalg.norm(b - reconstructed)\n",
    "            \n",
    "            if error < min_error:\n",
    "                min_error = error\n",
    "                predicted_cls = c\n",
    "        \n",
    "        if predicted_cls == cls:\n",
    "            correct += 1\n",
    "        total += 1\n",
    "\n",
    "accuracy_section2 = correct / total\n",
    "print(f\"accuracy 2: {accuracy_section2:.2%}\")"
   ]
  },
  {
   "cell_type": "code",
   "execution_count": null,
   "metadata": {},
   "outputs": [
    {
     "data": {
      "text/plain": [
       "(0.7057692307692308, 0.7019230769230769)"
      ]
     },
     "execution_count": 9,
     "metadata": {},
     "output_type": "execute_result"
    }
   ],
   "source": [
    "accuracy_section1, accuracy_section2"
   ]
  }
 ],
 "metadata": {
  "kernelspec": {
   "display_name": ".venv",
   "language": "python",
   "name": "python3"
  },
  "language_info": {
   "codemirror_mode": {
    "name": "ipython",
    "version": 3
   },
   "file_extension": ".py",
   "mimetype": "text/x-python",
   "name": "python",
   "nbconvert_exporter": "python",
   "pygments_lexer": "ipython3",
   "version": "3.11.3"
  }
 },
 "nbformat": 4,
 "nbformat_minor": 2
}
